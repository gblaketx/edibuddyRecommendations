{
 "cells": [
  {
   "cell_type": "code",
   "execution_count": 5,
   "metadata": {},
   "outputs": [],
   "source": [
    "import pandas as pd\n",
    "import numpy as np\n",
    "import scipy as sp\n",
    "import pickle\n",
    "import DataLoader\n",
    "from collections import defaultdict\n",
    "from UserMeanEstimator import UserMeanEstimator\n",
    "from RecipeMeanEstimator import RecipeMeanEstimator"
   ]
  },
  {
   "cell_type": "code",
   "execution_count": 6,
   "metadata": {},
   "outputs": [],
   "source": [
    "# ratings = pd.read_csv(\"data/all_recipe_clean.csv\")\n",
    "with open(\"data/test_data_100.pkl\", \"rb\") as infile:\n",
    "    recipes = pickle.load(infile) \n",
    "ratings = pd.read_csv(\"data/test_ratings_100.csv\")\n",
    "dataLoader = DataLoader.DataLoader(ratings, recipes)\n",
    "# user_holdout, recipe_holdout, holdout = dataLoader.get_holdout_data()\n",
    "# holdout_X = [t[:2] for t in holdout]\n",
    "# holdout_Y = np.array([t[2] for t in holdout])"
   ]
  },
  {
   "cell_type": "code",
   "execution_count": 25,
   "metadata": {},
   "outputs": [],
   "source": [
    "class RecipeRecommender:\n",
    "    \"\"\"\n",
    "    \n",
    "    distance: Function that takes in list of recipe_ids selected so far\n",
    "        and target recipe_id and computes the distance between them. Higher\n",
    "        distance scores are considered better for diversity.\n",
    "    \"\"\"\n",
    "    def __init__(self, \n",
    "                 dataLoader, \n",
    "                 estimator, \n",
    "                 diversity_weight=1.0, \n",
    "                 distance = \"cosine\"):\n",
    "        self.estimator = estimator\n",
    "        self.dataLoader = dataLoader\n",
    "        self.recipe_ids = frozenset(dataLoader.get_recipe_ids())\n",
    "        self.diversity_weight = diversity_weight\n",
    "        self.diversity = self.get_diversity_calculation(distance)\n",
    "        self.sim_cache = {}\n",
    "        \n",
    "    def get_diversity_calculation(self, distance):\n",
    "        \"\"\"\n",
    "        Returns the function used to calculate how item new_item would affect the diversity\n",
    "        of recipe set current_items. Higher diversity score is better\n",
    "        \"\"\"\n",
    "        \n",
    "        def average_cosine_similarity(current_items, new_item_id):\n",
    "            sim = 0.0\n",
    "            for recipe_id in current_items:\n",
    "                sim += self.compute_cosine_similiarity(recipe_id, new_item_id)\n",
    "            return -sim / len(current_items)\n",
    "        \n",
    "        def shared_ingredients(current_items, new_item_id):\n",
    "            used_ingredients = { i[\"key ingredient\"]\n",
    "                                for r_id in current_items\n",
    "                                for i in self.dataLoader.get_recipe_info(r_id)[\"ingredients\"]}\n",
    "            new_recipe_ingredients = { i[\"key ingredient\"] \n",
    "                                      for i in self.dataLoader.get_recipe_info(new_item_id)[\"ingredients\"]}\n",
    "    \n",
    "            return 1.0 - len(new_recipe_ingredients - used_ingredients) / len(new_recipe_ingredients)\n",
    "    \n",
    "        if distance == \"cosine\":\n",
    "            return average_cosine_similarity\n",
    "        elif distance == \"ingredients\":\n",
    "            return shared_ingredients\n",
    "        else:\n",
    "            raise ValueError(\"Unexpected distance: {}\".format(distance))\n",
    "            \n",
    "    \n",
    "    def compute_cosine_similiarity(self, r1, r2):\n",
    "        key = tuple(sorted([r1, r2]))\n",
    "        if key not in self.sim_cache:\n",
    "            ratings1 = self.dataLoader.get_recipe_ratings(r1, defaultdict(set))\n",
    "            ratings2 = self.dataLoader.get_recipe_ratings(r2, defaultdict(set))\n",
    "            prod = 0\n",
    "            for k in ratings1:\n",
    "                if k in ratings2:\n",
    "                    prod += ratings1[k] * ratings2[k]\n",
    "            self.sim_cache[key] = prod / (len(ratings1) * len(ratings2))\n",
    "        return self.sim_cache[key]\n",
    "\n",
    "    def get_recommendations(self, user_id, n_recs=100):\n",
    "        preds = self.predict_unrated_recipes(user_id)\n",
    "        return self.select_diverse_recipes(preds, n_recs)\n",
    "        \n",
    "    def predict_unrated_recipes(self, user_id):\n",
    "        \"\"\"\n",
    "        return a sorted list with tuples of recipe id and the user's predicted rating\n",
    "        for all unrated recipes\n",
    "        \"\"\"\n",
    "        user_rated_recipes = frozenset(self.dataLoader.get_user_ratings(user_id, {}))\n",
    "        unrated_recipes = self.recipe_ids - user_rated_recipes\n",
    "        X = [(user_id, recipe_id) for recipe_id in unrated_recipes]\n",
    "        predictions = estimator.predict(X)\n",
    "        res = []\n",
    "        for i, info in enumerate(X):\n",
    "            _, recipe_id = info\n",
    "            res.append((recipe_id, predictions[i]))\n",
    "        return sorted(res,key=lambda x: -x[1])\n",
    "    \n",
    "    def select_diverse_recipes(self, ratings, n_recs):\n",
    "        \"\"\"\n",
    "        ratings: list of (recipe_id, rating) tuples, sorted in descending\n",
    "            order by rating\n",
    "        \"\"\"\n",
    "        recs = []\n",
    "        original_ratings = {id: rating for id, rating in ratings}\n",
    "        for _ in range(n_recs):\n",
    "            target_recipe_id, _ = ratings.pop(0)\n",
    "            recs.append(target_recipe_id)\n",
    "            new_ratings = []\n",
    "            for i, item in enumerate(ratings):\n",
    "                recipe_id, _ = item\n",
    "                predicted_rating = original_ratings[recipe_id]\n",
    "                revised_score = predicted_rating + self.diversity_weight * self.diversity(recs, recipe_id)\n",
    "                if revised_score == predicted_rating:\n",
    "                    new_ratings = new_ratings + ratings[i:]\n",
    "                    break\n",
    "                new_ratings.append((recipe_id, revised_score))\n",
    "            ratings = sorted(new_ratings, key=lambda x: -x[1])\n",
    "        return recs\n",
    "            "
   ]
  },
  {
   "cell_type": "code",
   "execution_count": 35,
   "metadata": {},
   "outputs": [],
   "source": [
    "# Step 1: For a given user, run the estimator an all unrated recipes\n",
    "\n",
    "estimator = RecipeMeanEstimator(dataLoader, defaultdict(set))\n",
    "recommender = RecipeRecommender(dataLoader, estimator, distance=\"ingredients\")\n",
    "preds_ing = recommender.predict_unrated_recipes(953814)"
   ]
  },
  {
   "cell_type": "code",
   "execution_count": 31,
   "metadata": {},
   "outputs": [
    {
     "data": {
      "text/plain": [
       "[(88071, 5.0),\n",
       " (150812, 5.0),\n",
       " (16927, 5.0),\n",
       " (150818, 5.0),\n",
       " (229920, 5.0),\n",
       " (56358, 5.0),\n",
       " (70188, 5.0),\n",
       " (235059, 5.0),\n",
       " (245050, 5.0),\n",
       " (45652, 5.0),\n",
       " (255337, 5.0),\n",
       " (20339, 5.0),\n",
       " (163972, 5.0),\n",
       " (262027, 5.0),\n",
       " (25504, 5.0),\n",
       " (228261, 5.0),\n",
       " (146088, 5.0),\n",
       " (128967, 5.0),\n",
       " (40399, 5.0),\n",
       " (86227, 5.0),\n",
       " (223190, 5.0),\n",
       " (230407, 4.0),\n",
       " (16651, 4.0),\n",
       " (159246, 4.0),\n",
       " (17426, 4.0),\n",
       " (34579, 4.0),\n",
       " (30749, 4.0),\n",
       " (218654, 4.0),\n",
       " (20511, 4.0),\n",
       " (229665, 4.0),\n",
       " (76066, 4.0),\n",
       " (172066, 4.0),\n",
       " (24616, 4.0),\n",
       " (199725, 4.0),\n",
       " (155971, 4.0),\n",
       " (87365, 4.0),\n",
       " (232018, 4.0),\n",
       " (174170, 4.0),\n",
       " (161118, 4.0),\n",
       " (54887, 4.0),\n",
       " (74345, 4.0),\n",
       " (9076, 4.0),\n",
       " (215411, 4.0),\n",
       " (254325, 4.0),\n",
       " (23167, 4.0),\n",
       " (240778, 4.0),\n",
       " (25739, 4.0),\n",
       " (212366, 4.0),\n",
       " (229267, 4.0),\n",
       " (24213, 4.0),\n",
       " (16024, 4.0),\n",
       " (11934, 4.0),\n",
       " (14239, 4.0),\n",
       " (9377, 4.0),\n",
       " (83368, 4.0),\n",
       " (21417, 4.0),\n",
       " (214957, 4.0),\n",
       " (30126, 4.0),\n",
       " (212920, 4.0),\n",
       " (11971, 4.0),\n",
       " (8906, 4.0),\n",
       " (172234, 4.0),\n",
       " (130265, 4.0),\n",
       " (228078, 4.0),\n",
       " (237296, 4.0),\n",
       " (14845, 4.0),\n",
       " (13054, 4.0)]"
      ]
     },
     "execution_count": 31,
     "metadata": {},
     "output_type": "execute_result"
    }
   ],
   "source": [
    "# Step 2: Using the estimates, construct the set that balances diversity and predicted utility\n",
    "# preds_old = recommender.select_diverse_recipes(preds, 100)\n",
    "# preds_old\n",
    "# diversity_metric = recommender.get_diversity_calculation(\"ingredients\")\n",
    "preds_cos"
   ]
  },
  {
   "cell_type": "code",
   "execution_count": 29,
   "metadata": {},
   "outputs": [
    {
     "data": {
      "text/plain": [
       "0.2727272727272727"
      ]
     },
     "execution_count": 29,
     "metadata": {},
     "output_type": "execute_result"
    }
   ],
   "source": [
    "# recommender.get_recommendations(36964)\n",
    "diversity_metric([238270, 240778], 237458)"
   ]
  },
  {
   "cell_type": "code",
   "execution_count": 36,
   "metadata": {},
   "outputs": [
    {
     "data": {
      "text/plain": [
       "True"
      ]
     },
     "execution_count": 36,
     "metadata": {},
     "output_type": "execute_result"
    }
   ],
   "source": [
    "np.all(np.isclose(preds_cos, preds_ing))"
   ]
  },
  {
   "cell_type": "code",
   "execution_count": null,
   "metadata": {},
   "outputs": [],
   "source": []
  }
 ],
 "metadata": {
  "kernelspec": {
   "display_name": "Python 3",
   "language": "python",
   "name": "python3"
  },
  "language_info": {
   "codemirror_mode": {
    "name": "ipython",
    "version": 3
   },
   "file_extension": ".py",
   "mimetype": "text/x-python",
   "name": "python",
   "nbconvert_exporter": "python",
   "pygments_lexer": "ipython3",
   "version": "3.7.3"
  }
 },
 "nbformat": 4,
 "nbformat_minor": 2
}
